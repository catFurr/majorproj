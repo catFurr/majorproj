{
 "cells": [
  {
   "cell_type": "code",
   "execution_count": 2,
   "metadata": {},
   "outputs": [],
   "source": [
    "import numpy as np\n",
    "import cv2\n",
    "import math\n",
    "from matplotlib import pyplot as plt\n",
    "from mnist import MNIST\n",
    "import random\n",
    "\n",
    "#reading dataset image (16x16)\n",
    "# img = cv2.imread('1.png', 0)\n",
    "mndata = MNIST('mnist')\n",
    "\n",
    "images, labels = mndata.load_training()\n",
    "index = random.randrange(0, len(images))  # choose an index ;-)\n",
    "print(mndata.display(images[index]))\n",
    "imgflat = images[index]\n",
    "img = np.reshape(imgflat, (28, 28))\n",
    "\n",
    "#defining time frame of 1s with steps of 5ms\n",
    "T = 1;\n",
    "dt = 0.005\n",
    "time  = np.arange(0, T+dt, dt)\n",
    "num_steps = round(T / dt) # 200\n",
    "img_width = len(img) # 28\n",
    "if (img_width != len(img[0])) print(\"Error! Image is not square\") # we assume height and width are equal\n",
    "\n",
    "#initializing spike train\n",
    "base_train = np.zeros((img_width, img_width, num_steps))\n",
    "\n",
    "uni_train = np.copy(base_train)\n",
    "poisson_train = np.copy(base_train)\n",
    "poisson_isi_train = np.copy(base_train)\n",
    "for i in range(img_width):\n",
    "    for j in range(img_width):\n",
    "        pixel_value = img[i][j]\n",
    "        uni_isi = \n",
    "        poisson_isi = \n",
    "        poisson_isi_isi = \n",
    "        for k in range(num_steps):\n",
    "            if k % uni_isi == 0:\n",
    "                uni_train[i][j][k] = 1\n",
    "            if k % poisson_isi == 0:\n",
    "                poisson_train[i][j][k] = 1\n",
    "            if k % poisson_isi_isi == 0:\n",
    "                poisson_isi_train[i][j][k] = 1"
   ]
  },
  {
   "cell_type": "markdown",
   "metadata": {},
   "source": []
  },
  {
   "cell_type": "code",
   "execution_count": 36,
   "metadata": {},
   "outputs": [],
   "source": [
    "total_spikes = round(T / dt)\n",
    "for i in range(784):\n",
    "    temp = np.zeros(total_spikes)\n",
    "    normalized_px = ( imgflat[i] / 256 )\n",
    "    if normalized_px > 0:\n",
    "        num_spikes = round(total_spikes * normalized_px)\n",
    "        f_spike = round(T / normalized_px)\n",
    "        for j in range(num_spikes):\n",
    "            if j*f_spike < total_spikes:\n",
    "                temp[j*f_spike] = 1\n",
    "    train.append(temp)"
   ]
  },
  {
   "cell_type": "code",
   "execution_count": 39,
   "metadata": {},
   "outputs": [
    {
     "name": "stdout",
     "output_type": "stream",
     "text": [
      "254\n"
     ]
    },
    {
     "data": {
      "image/png": "[encoded data removed]",
      "text/plain": [
       "<Figure size 432x288 with 1 Axes>"
      ]
     },
     "metadata": {
      "needs_background": "light"
     },
     "output_type": "display_data"
    }
   ],
   "source": [
    "# show the spike train output\n",
    "# and plot it in a graph\n",
    "ind = 629\n",
    "print(imgflat[ind])\n",
    "plt.plot(train[ind])\n",
    "plt.ylabel(\"spikes\")\n",
    "plt.xlabel(\"time\")\n",
    "plt.show()"
   ]
  },
  {
   "cell_type": "code",
   "execution_count": 3,
   "metadata": {},
   "outputs": [],
   "source": [
    "# Sliding window implementation of receptive field\n",
    "w = np.zeros([5,5])\n",
    "pot = np.zeros([28,28])\n",
    "ran = [-2,-1,0,1,2]\n",
    "ox = 2\n",
    "oy = 2\n",
    "w[ox][oy] = 1\n",
    "\n",
    "for i in range(5):\n",
    "\tfor j in range(5):\n",
    "\t\td = abs(ox-i) + abs(oy-j)\n",
    "\t\tw[i][j] = (-0.375)*d + 1"
   ]
  },
  {
   "cell_type": "code",
   "execution_count": 22,
   "metadata": {},
   "outputs": [
    {
     "data": {
      "text/plain": [
       "array([[[0., 0., 0.],\n",
       "        [0., 0., 0.]],\n",
       "\n",
       "       [[0., 0., 0.],\n",
       "        [0., 0., 1.]]])"
      ]
     },
     "execution_count": 22,
     "metadata": {},
     "output_type": "execute_result"
    }
   ],
   "source": [
    "# a = np.zeros((2, 2, 3))\n",
    "# b = np.copy(a)\n",
    "# b[1][1][2] = 1\n",
    "b"
   ]
  },
  {
   "cell_type": "code",
   "execution_count": null,
   "metadata": {},
   "outputs": [],
   "source": []
  }
 ],
 "metadata": {
  "kernelspec": {
   "display_name": "Python 3",
   "language": "python",
   "name": "python3"
  },
  "language_info": {
   "codemirror_mode": {
    "name": "ipython",
    "version": 3
   },
   "file_extension": ".py",
   "mimetype": "text/x-python",
   "name": "python",
   "nbconvert_exporter": "python",
   "pygments_lexer": "ipython3",
   "version": "3.8.3"
  }
 },
 "nbformat": 4,
 "nbformat_minor": 4
}
