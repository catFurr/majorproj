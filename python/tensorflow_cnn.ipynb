{
 "cells": [
  {
   "cell_type": "code",
   "execution_count": 36,
   "metadata": {},
   "outputs": [],
   "source": [
    "import tensorflow as tf\n",
    "import numpy as np"
   ]
  },
  {
   "cell_type": "code",
   "execution_count": 2,
   "metadata": {},
   "outputs": [],
   "source": [
    "mnist = tf.keras.datasets.mnist"
   ]
  },
  {
   "cell_type": "code",
   "execution_count": 3,
   "metadata": {},
   "outputs": [],
   "source": [
    "(x_train, y_train),(x_test, y_test) = mnist.load_data()\n",
    "x_train, x_test = x_train / 255.0, x_test / 255.0"
   ]
  },
  {
   "cell_type": "code",
   "execution_count": 4,
   "metadata": {},
   "outputs": [],
   "source": [
    "model = tf.keras.models.Sequential([\n",
    "  tf.keras.layers.Flatten(input_shape=(28, 28)),\n",
    "  tf.keras.layers.Dense(128, activation='relu'),\n",
    "  tf.keras.layers.Dropout(0.2),\n",
    "  tf.keras.layers.Dense(10, activation='softmax')\n",
    "])"
   ]
  },
  {
   "cell_type": "code",
   "execution_count": 5,
   "metadata": {},
   "outputs": [],
   "source": [
    "model.compile(optimizer='adam',\n",
    "              loss='sparse_categorical_crossentropy',\n",
    "              metrics=['accuracy'])"
   ]
  },
  {
   "cell_type": "code",
   "execution_count": 7,
   "metadata": {},
   "outputs": [
    {
     "name": "stdout",
     "output_type": "stream",
     "text": [
      "Epoch 1/8\n",
      "1875/1875 [==============================] - 3s 1ms/step - loss: 0.0655 - accuracy: 0.9786\n",
      "Epoch 2/8\n",
      "1875/1875 [==============================] - 3s 1ms/step - loss: 0.0600 - accuracy: 0.9808\n",
      "Epoch 3/8\n",
      "1875/1875 [==============================] - 3s 1ms/step - loss: 0.0542 - accuracy: 0.9822\n",
      "Epoch 4/8\n",
      "1875/1875 [==============================] - 3s 1ms/step - loss: 0.0506 - accuracy: 0.9836\n",
      "Epoch 5/8\n",
      "1875/1875 [==============================] - 3s 1ms/step - loss: 0.0435 - accuracy: 0.9853\n",
      "Epoch 6/8\n",
      "1875/1875 [==============================] - 3s 1ms/step - loss: 0.0414 - accuracy: 0.9863\n",
      "Epoch 7/8\n",
      "1875/1875 [==============================] - 2s 1ms/step - loss: 0.0371 - accuracy: 0.9875\n",
      "Epoch 8/8\n",
      "1875/1875 [==============================] - 2s 1ms/step - loss: 0.0367 - accuracy: 0.9874\n",
      "313/313 [==============================] - 0s 1ms/step - loss: 0.0706 - accuracy: 0.9813\n"
     ]
    },
    {
     "data": {
      "text/plain": [
       "[0.07057451456785202, 0.9812999963760376]"
      ]
     },
     "execution_count": 7,
     "metadata": {},
     "output_type": "execute_result"
    }
   ],
   "source": [
    "model.fit(x_train, y_train, epochs=8)"
   ]
  },
  {
   "cell_type": "code",
   "execution_count": 8,
   "metadata": {},
   "outputs": [
    {
     "name": "stdout",
     "output_type": "stream",
     "text": [
      "313/313 - 0s - loss: 0.0706 - accuracy: 0.9813 - 338ms/epoch - 1ms/step\n"
     ]
    },
    {
     "data": {
      "text/plain": [
       "[0.07057451456785202, 0.9812999963760376]"
      ]
     },
     "execution_count": 8,
     "metadata": {},
     "output_type": "execute_result"
    }
   ],
   "source": [
    "model.evaluate(x_test, y_test, verbose=2)"
   ]
  },
  {
   "cell_type": "code",
   "execution_count": 51,
   "metadata": {},
   "outputs": [
    {
     "data": {
      "text/plain": [
       "[<tf.Variable 'dense/kernel:0' shape=(784, 128) dtype=float32, numpy=\n",
       " array([[-0.01948933, -0.04421107, -0.02373759, ..., -0.06128555,\n",
       "         -0.05239107, -0.06747736],\n",
       "        [ 0.02848982,  0.06072963, -0.07337986, ..., -0.06958253,\n",
       "         -0.07409599,  0.01722781],\n",
       "        [-0.05087452, -0.07865039,  0.00761041, ...,  0.05308113,\n",
       "          0.06579801,  0.01042019],\n",
       "        ...,\n",
       "        [ 0.04574976,  0.02552373, -0.03896936, ..., -0.04532783,\n",
       "         -0.04221208,  0.06186759],\n",
       "        [-0.00704896, -0.06064092,  0.02370972, ..., -0.03508476,\n",
       "          0.06033275, -0.05913753],\n",
       "        [ 0.0237127 ,  0.05685616,  0.0576762 , ..., -0.0715057 ,\n",
       "          0.01826067, -0.04962509]], dtype=float32)>,\n",
       " <tf.Variable 'dense/bias:0' shape=(128,) dtype=float32, numpy=\n",
       " array([-0.1661975 ,  0.23427877,  0.11581157, -0.16118436,  0.11870763,\n",
       "         0.15339133, -0.10959002, -0.01105644,  0.12938944,  0.01646674,\n",
       "         0.10319535, -0.23181257, -0.08894776, -0.10861729, -0.12986465,\n",
       "         0.26448372,  0.00284762, -0.06750238,  0.21137911,  0.02537931,\n",
       "         0.07934581, -0.12440471, -0.0617426 ,  0.02271331, -0.1027782 ,\n",
       "        -0.00988597,  0.02404588, -0.08695762,  0.10490206,  0.18378939,\n",
       "        -0.24598199,  0.25755638, -0.00864645,  0.1577134 ,  0.14156339,\n",
       "         0.22736917,  0.04821791,  0.18327557,  0.3011134 , -0.07162873,\n",
       "        -0.05263929, -0.01969206, -0.13651767,  0.06839304,  0.01605836,\n",
       "         0.05686697, -0.02415209, -0.19845326,  0.23430608, -0.03317358,\n",
       "         0.00330974, -0.06038453, -0.23972033,  0.08710963,  0.01262813,\n",
       "         0.25548682,  0.02159341,  0.10086577, -0.1278052 , -0.14560717,\n",
       "         0.01225511, -0.00506248, -0.0278756 ,  0.07936187, -0.19853212,\n",
       "        -0.0271832 , -0.21125698,  0.0243141 ,  0.220972  ,  0.00895562,\n",
       "         0.03037806,  0.17657517,  0.2991056 ,  0.0787514 ,  0.02961831,\n",
       "         0.02645173, -0.02417872,  0.00935803,  0.00042025, -0.04622105,\n",
       "         0.04801137,  0.05770303, -0.17819461,  0.11030228,  0.04329645,\n",
       "        -0.29123548,  0.10549165, -0.06657726, -0.06967124, -0.07112762,\n",
       "        -0.04734578, -0.16247828, -0.01516101,  0.01697895,  0.06345093,\n",
       "         0.17110944,  0.05177354,  0.10310878, -0.26854053, -0.12031609,\n",
       "         0.13838814,  0.06953115, -0.2957161 ,  0.11456676, -0.33597702,\n",
       "        -0.01527891, -0.00055775, -0.2512125 , -0.15906653, -0.23001593,\n",
       "        -0.34661722, -0.0218494 ,  0.02089064, -0.04647116,  0.01497733,\n",
       "         0.25019696,  0.11737084,  0.07198697,  0.09136938,  0.04429718,\n",
       "        -0.17494957,  0.04323921, -0.02802092, -0.07844807,  0.00919897,\n",
       "        -0.08621018, -0.10468182,  0.0952082 ], dtype=float32)>,\n",
       " <tf.Variable 'dense_1/kernel:0' shape=(128, 10) dtype=float32, numpy=\n",
       " array([[ 0.07144877,  0.3075693 ,  0.11095969, ..., -0.18278718,\n",
       "         -0.18989739, -0.27127236],\n",
       "        [ 0.18018751, -0.5659166 , -0.11702374, ...,  0.17637704,\n",
       "          0.09706853,  0.13518098],\n",
       "        [-0.69940954, -0.2531107 ,  0.07795741, ...,  0.3101517 ,\n",
       "          0.00711707, -0.9740587 ],\n",
       "        ...,\n",
       "        [-0.14650735, -0.6269391 , -0.4359187 , ..., -0.44182193,\n",
       "          0.18617567,  0.09089416],\n",
       "        [-0.4398034 ,  0.17689888, -0.07276313, ...,  0.1979402 ,\n",
       "          0.18696189,  0.15060934],\n",
       "        [-0.16927253,  0.43404096, -1.0153573 , ...,  0.14155976,\n",
       "         -0.48819917, -0.12304089]], dtype=float32)>,\n",
       " <tf.Variable 'dense_1/bias:0' shape=(10,) dtype=float32, numpy=\n",
       " array([ 2.6199667e-04, -2.0115377e-01, -1.1600938e-01, -3.3347470e-01,\n",
       "         1.7208970e-01, -8.2668796e-02,  3.9743778e-04, -3.0281755e-01,\n",
       "         6.5569973e-01,  7.3346071e-02], dtype=float32)>]"
      ]
     },
     "execution_count": 51,
     "metadata": {},
     "output_type": "execute_result"
    }
   ],
   "source": [
    "model.weights"
   ]
  },
  {
   "cell_type": "code",
   "execution_count": 39,
   "metadata": {},
   "outputs": [
    {
     "name": "stdout",
     "output_type": "stream",
     "text": [
      "(1, 28, 28)\n",
      "(1, 28, 28)\n"
     ]
    }
   ],
   "source": []
  },
  {
   "cell_type": "code",
   "execution_count": 24,
   "metadata": {},
   "outputs": [
    {
     "data": {
      "text/plain": [
       "5"
      ]
     },
     "execution_count": 24,
     "metadata": {},
     "output_type": "execute_result"
    }
   ],
   "source": []
  },
  {
   "cell_type": "code",
   "execution_count": null,
   "metadata": {},
   "outputs": [],
   "source": []
  }
 ],
 "metadata": {
  "kernelspec": {
   "display_name": "Python 3",
   "language": "python",
   "name": "python3"
  },
  "language_info": {
   "codemirror_mode": {
    "name": "ipython",
    "version": 3
   },
   "file_extension": ".py",
   "mimetype": "text/x-python",
   "name": "python",
   "nbconvert_exporter": "python",
   "pygments_lexer": "ipython3",
   "version": "3.8.3"
  }
 },
 "nbformat": 4,
 "nbformat_minor": 4
}
