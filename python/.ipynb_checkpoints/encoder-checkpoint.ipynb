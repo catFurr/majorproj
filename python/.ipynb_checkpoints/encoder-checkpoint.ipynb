{
 "cells": [
  {
   "cell_type": "code",
   "execution_count": 1,
   "metadata": {},
   "outputs": [],
   "source": [
    "import numpy as np\n",
    "import cv2\n",
    "import math\n",
    "from matplotlib import pyplot as plt\n",
    "from mnist import MNIST\n",
    "import random"
   ]
  },
  {
   "cell_type": "code",
   "execution_count": 2,
   "metadata": {},
   "outputs": [],
   "source": [
    "# Sliding window implementation of receptive field\n",
    "w = np.zeros([5,5])\n",
    "pot = np.zeros([28,28])\n",
    "ran = [-2,-1,0,1,2]\n",
    "ox = 2\n",
    "oy = 2\n",
    "w[ox][oy] = 1\n",
    "\n",
    "for i in range(5):\n",
    "\tfor j in range(5):\n",
    "\t\td = abs(ox-i) + abs(oy-j)\n",
    "\t\tw[i][j] = (-0.375)*d + 1"
   ]
  },
  {
   "cell_type": "code",
   "execution_count": 10,
   "metadata": {},
   "outputs": [
    {
     "name": "stdout",
     "output_type": "stream",
     "text": [
      "\n",
      "............................\n",
      "............................\n",
      "............................\n",
      "............................\n",
      "............................\n",
      "..............@.............\n",
      "............@...............\n",
      "...........@................\n",
      "..........@.................\n",
      "..........@......@@@........\n",
      "..........@......@@.........\n",
      "..........@@.@..@@..........\n",
      "............@...@...........\n",
      "................@...........\n",
      "...............@............\n",
      "...............@............\n",
      "..............@@............\n",
      "..............@.............\n",
      "..............@.............\n",
      ".............@..............\n",
      ".............@..............\n",
      "..............@.............\n",
      "..............@.............\n",
      "..............@@............\n",
      "...............@@...........\n",
      "............................\n",
      "............................\n",
      "............................\n"
     ]
    }
   ],
   "source": [
    "#reading dataset image (16x16)\n",
    "# img = cv2.imread('1.png', 0)\n",
    "mndata = MNIST('mnist')\n",
    "\n",
    "images, labels = mndata.load_training()\n",
    "index = random.randrange(0, len(images))  # choose an index ;-)\n",
    "print(mndata.display(images[index]))\n",
    "imgflat = images[index]\n",
    "img = np.reshape(imgflat, (28, 28))"
   ]
  },
  {
   "cell_type": "code",
   "execution_count": 27,
   "metadata": {},
   "outputs": [],
   "source": [
    "#defining time frame of 1s with steps of 5ms\n",
    "T = 10;\n",
    "dt = 0.005\n",
    "time  = np.arange(0, T+dt, dt)\n",
    "\n",
    "#initializing spike train\n",
    "train = []"
   ]
  },
  {
   "cell_type": "code",
   "execution_count": 28,
   "metadata": {},
   "outputs": [
    {
     "data": {
      "text/plain": [
       "784"
      ]
     },
     "execution_count": 28,
     "metadata": {},
     "output_type": "execute_result"
    }
   ],
   "source": [
    "total_spikes = round(T / dt)\n",
    "for i in range(784):\n",
    "    temp = np.zeros(total_spikes)\n",
    "    normalized_px = ( imgflat[i] / 256 )\n",
    "    if normalized_px > 0:\n",
    "        num_spikes = round(total_spikes * normalized_px)\n",
    "        f_spike = round(T / normalized_px)\n",
    "        for j in range(num_spikes):\n",
    "            if j*f_spike < total_spikes:\n",
    "                temp[j*f_spike] = 1\n",
    "    train.append(temp)"
   ]
  },
  {
   "cell_type": "code",
   "execution_count": 33,
   "metadata": {},
   "outputs": [
    {
     "name": "stdout",
     "output_type": "stream",
     "text": [
      "10\n"
     ]
    },
    {
     "data": {
      "image/png": "[encoded data removed]",
      "text/plain": [
       "<Figure size 432x288 with 1 Axes>"
      ]
     },
     "metadata": {
      "needs_background": "light"
     },
     "output_type": "display_data"
    }
   ],
   "source": [
    "# show the spike train output\n",
    "# and plot it in a graph\n",
    "ind = 236\n",
    "print(imgflat[ind])\n",
    "plt.plot(train[ind])\n",
    "plt.ylabel(\"spikes\")\n",
    "plt.xlabel(\"time\")\n",
    "plt.show()"
   ]
  },
  {
   "cell_type": "code",
   "execution_count": 32,
   "metadata": {},
   "outputs": [
    {
     "name": "stdout",
     "output_type": "stream",
     "text": [
      "152 41\n",
      "153 173\n",
      "154 253\n",
      "155 82\n",
      "179 62\n",
      "180 223\n",
      "181 172\n",
      "182 131\n",
      "183 81\n",
      "206 82\n",
      "207 254\n",
      "208 172\n",
      "209 41\n",
      "233 41\n",
      "234 243\n",
      "235 172\n",
      "236 10\n",
      "242 82\n",
      "243 82\n",
      "261 153\n",
      "262 253\n",
      "269 214\n",
      "270 253\n",
      "271 224\n",
      "272 20\n",
      "289 152\n",
      "290 252\n",
      "291 41\n",
      "295 21\n",
      "296 183\n",
      "297 253\n",
      "298 252\n",
      "299 81\n",
      "317 21\n",
      "318 203\n",
      "319 254\n",
      "320 172\n",
      "321 214\n",
      "322 172\n",
      "323 132\n",
      "324 253\n",
      "325 203\n",
      "326 20\n",
      "346 20\n",
      "347 172\n",
      "348 212\n",
      "349 151\n",
      "350 70\n",
      "351 131\n",
      "352 252\n",
      "353 20\n",
      "379 173\n",
      "380 253\n",
      "406 82\n",
      "407 253\n",
      "408 171\n",
      "434 123\n",
      "435 224\n",
      "436 20\n",
      "461 21\n",
      "462 223\n",
      "463 203\n",
      "489 152\n",
      "490 253\n",
      "491 82\n",
      "517 152\n",
      "518 252\n",
      "545 214\n",
      "546 151\n",
      "573 253\n",
      "574 151\n",
      "601 193\n",
      "602 213\n",
      "603 21\n",
      "629 152\n",
      "630 252\n",
      "631 142\n",
      "657 82\n",
      "658 223\n",
      "659 255\n",
      "660 172\n",
      "661 41\n",
      "686 20\n",
      "687 213\n",
      "688 252\n",
      "689 182\n",
      "690 20\n"
     ]
    }
   ],
   "source": [
    "for i in range(len(train)):\n",
    "    if max(train[i]) > 0:\n",
    "        print(i, imgflat[i])"
   ]
  },
  {
   "cell_type": "code",
   "execution_count": null,
   "metadata": {},
   "outputs": [],
   "source": []
  }
 ],
 "metadata": {
  "kernelspec": {
   "display_name": "Python 3",
   "language": "python",
   "name": "python3"
  },
  "language_info": {
   "codemirror_mode": {
    "name": "ipython",
    "version": 3
   },
   "file_extension": ".py",
   "mimetype": "text/x-python",
   "name": "python",
   "nbconvert_exporter": "python",
   "pygments_lexer": "ipython3",
   "version": "3.8.3"
  }
 },
 "nbformat": 4,
 "nbformat_minor": 4
}
